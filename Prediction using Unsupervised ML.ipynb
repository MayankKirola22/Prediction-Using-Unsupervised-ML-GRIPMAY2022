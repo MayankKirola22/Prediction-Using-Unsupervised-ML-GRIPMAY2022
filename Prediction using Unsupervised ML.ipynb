{
 "cells": [
  {
   "cell_type": "markdown",
   "id": "ce21fb71",
   "metadata": {},
   "source": [
    "# Prediction Using Unsupervised Machine Learning\n"
   ]
  },
  {
   "cell_type": "markdown",
   "id": "522ae444",
   "metadata": {},
   "source": [
    "#### Made By : Mayank Kirola (Data Science And Analytics Intern at The Sparks Foundation) #GRIPMAY2022"
   ]
  },
  {
   "cell_type": "markdown",
   "id": "a0abd081",
   "metadata": {},
   "source": [
    "Here we are using K-Means Algorithm to Predict data.\n",
    "\n",
    "The k-means clustering method is an unsupervised machine learning technique used to identify clusters of data objects in a dataset."
   ]
  },
  {
   "cell_type": "markdown",
   "id": "86751901",
   "metadata": {},
   "source": [
    "### Importing Statements\n",
    "\n",
    "Mathplotlib - IT is used to plot graphs.\n",
    "\n",
    "Kneed - We are using this library to find Elbow Point.\n",
    "\n",
    "Sklearn (SciKit-Learn) - This library is the most useful liberary for machine learning in Python.\n",
    "\n",
    "Pandas - Pandas is a library used to analyze data."
   ]
  },
  {
   "cell_type": "code",
   "execution_count": 26,
   "id": "dd60599d",
   "metadata": {},
   "outputs": [],
   "source": [
    "import matplotlib.pyplot as plt\n",
    "from kneed import KneeLocator\n",
    "from sklearn.cluster import KMeans\n",
    "import pandas as pd"
   ]
  },
  {
   "cell_type": "markdown",
   "id": "bff1c8ad",
   "metadata": {},
   "source": [
    "### Reading Data\n",
    "\n",
    "Reading data from \"Iris.csv\" and assigning values to Variable x."
   ]
  },
  {
   "cell_type": "code",
   "execution_count": 27,
   "id": "1d6261d6",
   "metadata": {},
   "outputs": [],
   "source": [
    "data = pd.read_csv(\"IRIS.CSV\")"
   ]
  },
  {
   "cell_type": "markdown",
   "id": "82700c0d",
   "metadata": {},
   "source": [
    "Checking the format of the data."
   ]
  },
  {
   "cell_type": "code",
   "execution_count": 28,
   "id": "1c909616",
   "metadata": {
    "scrolled": false
   },
   "outputs": [
    {
     "data": {
      "text/html": [
       "<div>\n",
       "<style scoped>\n",
       "    .dataframe tbody tr th:only-of-type {\n",
       "        vertical-align: middle;\n",
       "    }\n",
       "\n",
       "    .dataframe tbody tr th {\n",
       "        vertical-align: top;\n",
       "    }\n",
       "\n",
       "    .dataframe thead th {\n",
       "        text-align: right;\n",
       "    }\n",
       "</style>\n",
       "<table border=\"1\" class=\"dataframe\">\n",
       "  <thead>\n",
       "    <tr style=\"text-align: right;\">\n",
       "      <th></th>\n",
       "      <th>Id</th>\n",
       "      <th>SepalLengthCm</th>\n",
       "      <th>SepalWidthCm</th>\n",
       "      <th>PetalLengthCm</th>\n",
       "      <th>PetalWidthCm</th>\n",
       "      <th>Species</th>\n",
       "    </tr>\n",
       "  </thead>\n",
       "  <tbody>\n",
       "    <tr>\n",
       "      <th>0</th>\n",
       "      <td>1</td>\n",
       "      <td>5.1</td>\n",
       "      <td>3.5</td>\n",
       "      <td>1.4</td>\n",
       "      <td>0.2</td>\n",
       "      <td>Iris-setosa</td>\n",
       "    </tr>\n",
       "    <tr>\n",
       "      <th>1</th>\n",
       "      <td>2</td>\n",
       "      <td>4.9</td>\n",
       "      <td>3.0</td>\n",
       "      <td>1.4</td>\n",
       "      <td>0.2</td>\n",
       "      <td>Iris-setosa</td>\n",
       "    </tr>\n",
       "    <tr>\n",
       "      <th>2</th>\n",
       "      <td>3</td>\n",
       "      <td>4.7</td>\n",
       "      <td>3.2</td>\n",
       "      <td>1.3</td>\n",
       "      <td>0.2</td>\n",
       "      <td>Iris-setosa</td>\n",
       "    </tr>\n",
       "    <tr>\n",
       "      <th>3</th>\n",
       "      <td>4</td>\n",
       "      <td>4.6</td>\n",
       "      <td>3.1</td>\n",
       "      <td>1.5</td>\n",
       "      <td>0.2</td>\n",
       "      <td>Iris-setosa</td>\n",
       "    </tr>\n",
       "    <tr>\n",
       "      <th>4</th>\n",
       "      <td>5</td>\n",
       "      <td>5.0</td>\n",
       "      <td>3.6</td>\n",
       "      <td>1.4</td>\n",
       "      <td>0.2</td>\n",
       "      <td>Iris-setosa</td>\n",
       "    </tr>\n",
       "  </tbody>\n",
       "</table>\n",
       "</div>"
      ],
      "text/plain": [
       "   Id  SepalLengthCm  SepalWidthCm  PetalLengthCm  PetalWidthCm      Species\n",
       "0   1            5.1           3.5            1.4           0.2  Iris-setosa\n",
       "1   2            4.9           3.0            1.4           0.2  Iris-setosa\n",
       "2   3            4.7           3.2            1.3           0.2  Iris-setosa\n",
       "3   4            4.6           3.1            1.5           0.2  Iris-setosa\n",
       "4   5            5.0           3.6            1.4           0.2  Iris-setosa"
      ]
     },
     "execution_count": 28,
     "metadata": {},
     "output_type": "execute_result"
    }
   ],
   "source": [
    "data.head()"
   ]
  },
  {
   "cell_type": "code",
   "execution_count": 29,
   "id": "e4fa80d0",
   "metadata": {},
   "outputs": [],
   "source": [
    "x = data.iloc[:, :-1].values"
   ]
  },
  {
   "cell_type": "markdown",
   "id": "ced573bc",
   "metadata": {},
   "source": [
    "## Using Elbow Method\n",
    "\n",
    "Using Elbow Method to find the Optimum Number of Clusters.\n"
   ]
  },
  {
   "cell_type": "code",
   "execution_count": 30,
   "id": "34e13d67",
   "metadata": {},
   "outputs": [],
   "source": [
    "ww=[]\n",
    "for i in range(1,15):\n",
    "    kmeans = KMeans(init=\"random\",n_clusters=i,n_init=1,max_iter=300,random_state=22)\n",
    "    kmeans.fit(x)\n",
    "    ww.append(kmeans.inertia_)"
   ]
  },
  {
   "cell_type": "markdown",
   "id": "d06e4d0f",
   "metadata": {},
   "source": [
    "Ploting Graph using matplotlib.\n"
   ]
  },
  {
   "cell_type": "code",
   "execution_count": 31,
   "id": "02b597d1",
   "metadata": {
    "scrolled": true
   },
   "outputs": [
    {
     "data": {
      "text/plain": [
       "<matplotlib.collections.PathCollection at 0x7fa408ceb550>"
      ]
     },
     "execution_count": 31,
     "metadata": {},
     "output_type": "execute_result"
    },
    {
     "data": {
      "image/png": "[encoded data removed]",
      "text/plain": [
       "<Figure size 432x288 with 1 Axes>"
      ]
     },
     "metadata": {
      "needs_background": "light"
     },
     "output_type": "display_data"
    }
   ],
   "source": [
    "plt.title('The elbow method')\n",
    "plt.xlabel('Number of clusters')\n",
    "plt.ylabel('Inertia')\n",
    "plt.plot(range(1,15),ww)\n",
    "plt.scatter(range(1,15),ww)"
   ]
  },
  {
   "cell_type": "markdown",
   "id": "5f9220b5",
   "metadata": {},
   "source": [
    "Using KneeLocator to find Optimum Number of clusters (Elbow Point)"
   ]
  },
  {
   "cell_type": "code",
   "execution_count": 32,
   "id": "c9747306",
   "metadata": {},
   "outputs": [
    {
     "data": {
      "text/plain": [
       "3"
      ]
     },
     "execution_count": 32,
     "metadata": {},
     "output_type": "execute_result"
    }
   ],
   "source": [
    "elbow = KneeLocator(range(1, 15), ww, curve=\"convex\", direction=\"decreasing\").elbow\n",
    "elbow"
   ]
  },
  {
   "cell_type": "markdown",
   "id": "4645f594",
   "metadata": {},
   "source": [
    "Using k-means algorithm on elbow (In This Case : 3) point."
   ]
  },
  {
   "cell_type": "code",
   "execution_count": 33,
   "id": "155b97d9",
   "metadata": {},
   "outputs": [],
   "source": [
    "kmeans = KMeans(init=\"random\",n_clusters=elbow,n_init=10,max_iter=300,random_state=22)"
   ]
  },
  {
   "cell_type": "markdown",
   "id": "4809fee0",
   "metadata": {},
   "source": [
    "Testing our Model on the given data."
   ]
  },
  {
   "cell_type": "code",
   "execution_count": 34,
   "id": "44a9ae8d",
   "metadata": {},
   "outputs": [],
   "source": [
    "pred = kmeans.fit_predict(x)"
   ]
  },
  {
   "cell_type": "markdown",
   "id": "1cdcbd2e",
   "metadata": {},
   "source": [
    "Ploting graph and creating Clusters using matplotlib."
   ]
  },
  {
   "cell_type": "code",
   "execution_count": 35,
   "id": "2f1fc91d",
   "metadata": {
    "scrolled": true
   },
   "outputs": [
    {
     "data": {
      "text/plain": [
       "<matplotlib.legend.Legend at 0x7fa408df1f70>"
      ]
     },
     "execution_count": 35,
     "metadata": {},
     "output_type": "execute_result"
    },
    {
     "data": {
      "image/png": "[encoded data removed]",
      "text/plain": [
       "<Figure size 432x288 with 1 Axes>"
      ]
     },
     "metadata": {
      "needs_background": "light"
     },
     "output_type": "display_data"
    }
   ],
   "source": [
    "# Visualising the clusters - On the first two columns\n",
    "plt.scatter(x[pred == 0, 0], x[pred == 0, 1], \n",
    "            s = 100, c = 'red', label = 'Cluster 0')\n",
    "plt.scatter(x[pred == 1, 0], x[pred == 1, 1], \n",
    "            s = 100, c = 'blue', label = 'Cluster 1')\n",
    "plt.scatter(x[pred == 2, 0], x[pred == 2, 1],\n",
    "            s = 100, c = 'green', label = 'Cluster 2')\n",
    "\n",
    "# Plotting the centroids of the clusters\n",
    "plt.scatter(kmeans.cluster_centers_[:, 0], kmeans.cluster_centers_[:,1], \n",
    "            s = 100, c = 'yellow', label = 'Centroids')\n",
    "\n",
    "plt.legend()"
   ]
  }
 ],
 "metadata": {
  "kernelspec": {
   "display_name": "Python 3 (ipykernel)",
   "language": "python",
   "name": "python3"
  },
  "language_info": {
   "codemirror_mode": {
    "name": "ipython",
    "version": 3
   },
   "file_extension": ".py",
   "mimetype": "text/x-python",
   "name": "python",
   "nbconvert_exporter": "python",
   "pygments_lexer": "ipython3",
   "version": "3.8.8"
  }
 },
 "nbformat": 4,
 "nbformat_minor": 5
}
